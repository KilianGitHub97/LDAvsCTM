{
  "cells": [
    {
      "cell_type": "code",
      "execution_count": null,
      "metadata": {
        "colab": {
          "base_uri": "https://localhost:8080/",
          "height": 1000
        },
        "id": "3OUW20nfBilX",
        "outputId": "3927183b-a88a-40a0-98a7-14eb733ffce9"
      },
      "outputs": [
        {
          "name": "stdout",
          "output_type": "stream",
          "text": [
            "Looking in indexes: https://pypi.org/simple, https://us-python.pkg.dev/colab-wheels/public/simple/\n",
            "Collecting contextualized-topic-models==2.3.0\n",
            "  Downloading contextualized_topic_models-2.3.0-py2.py3-none-any.whl (35 kB)\n",
            "Requirement already satisfied: matplotlib>=3.1.3 in /usr/local/lib/python3.8/dist-packages (from contextualized-topic-models==2.3.0) (3.2.2)\n",
            "Requirement already satisfied: torchvision>=0.7.0 in /usr/local/lib/python3.8/dist-packages (from contextualized-topic-models==2.3.0) (0.14.0+cu116)\n",
            "Requirement already satisfied: numpy>=1.19.1 in /usr/local/lib/python3.8/dist-packages (from contextualized-topic-models==2.3.0) (1.21.6)\n",
            "Requirement already satisfied: scipy>=1.4.1 in /usr/local/lib/python3.8/dist-packages (from contextualized-topic-models==2.3.0) (1.7.3)\n",
            "Collecting gensim>=3.8.3\n",
            "  Downloading gensim-4.2.0-cp38-cp38-manylinux_2_12_x86_64.manylinux2010_x86_64.whl (24.1 MB)\n",
            "\u001b[K     |████████████████████████████████| 24.1 MB 1.5 MB/s \n",
            "\u001b[?25hRequirement already satisfied: torch>=1.6.0 in /usr/local/lib/python3.8/dist-packages (from contextualized-topic-models==2.3.0) (1.13.0+cu116)\n",
            "Collecting ipywidgets==7.5.1\n",
            "  Downloading ipywidgets-7.5.1-py2.py3-none-any.whl (121 kB)\n",
            "\u001b[K     |████████████████████████████████| 121 kB 66.0 MB/s \n",
            "\u001b[?25hRequirement already satisfied: wordcloud>=1.8.1 in /usr/local/lib/python3.8/dist-packages (from contextualized-topic-models==2.3.0) (1.8.2.2)\n",
            "Collecting ipython==7.16.3\n",
            "  Downloading ipython-7.16.3-py3-none-any.whl (783 kB)\n",
            "\u001b[K     |████████████████████████████████| 783 kB 42.2 MB/s \n",
            "\u001b[?25hRequirement already satisfied: tqdm>=4.56.0 in /usr/local/lib/python3.8/dist-packages (from contextualized-topic-models==2.3.0) (4.64.1)\n",
            "Collecting sentence-transformers>=1.1.1\n",
            "  Downloading sentence-transformers-2.2.2.tar.gz (85 kB)\n",
            "\u001b[K     |████████████████████████████████| 85 kB 563 kB/s \n",
            "\u001b[?25hRequirement already satisfied: decorator in /usr/local/lib/python3.8/dist-packages (from ipython==7.16.3->contextualized-topic-models==2.3.0) (4.4.2)\n",
            "Collecting jedi<=0.17.2,>=0.10\n",
            "  Downloading jedi-0.17.2-py2.py3-none-any.whl (1.4 MB)\n",
            "\u001b[K     |████████████████████████████████| 1.4 MB 49.2 MB/s \n",
            "\u001b[?25hRequirement already satisfied: traitlets>=4.2 in /usr/local/lib/python3.8/dist-packages (from ipython==7.16.3->contextualized-topic-models==2.3.0) (5.6.0)\n",
            "Requirement already satisfied: prompt-toolkit!=3.0.0,!=3.0.1,<3.1.0,>=2.0.0 in /usr/local/lib/python3.8/dist-packages (from ipython==7.16.3->contextualized-topic-models==2.3.0) (2.0.10)\n",
            "Requirement already satisfied: backcall in /usr/local/lib/python3.8/dist-packages (from ipython==7.16.3->contextualized-topic-models==2.3.0) (0.2.0)\n",
            "Requirement already satisfied: setuptools>=18.5 in /usr/local/lib/python3.8/dist-packages (from ipython==7.16.3->contextualized-topic-models==2.3.0) (57.4.0)\n",
            "Requirement already satisfied: pickleshare in /usr/local/lib/python3.8/dist-packages (from ipython==7.16.3->contextualized-topic-models==2.3.0) (0.7.5)\n",
            "Requirement already satisfied: pygments in /usr/local/lib/python3.8/dist-packages (from ipython==7.16.3->contextualized-topic-models==2.3.0) (2.6.1)\n",
            "Requirement already satisfied: pexpect in /usr/local/lib/python3.8/dist-packages (from ipython==7.16.3->contextualized-topic-models==2.3.0) (4.8.0)\n",
            "Requirement already satisfied: ipykernel>=4.5.1 in /usr/local/lib/python3.8/dist-packages (from ipywidgets==7.5.1->contextualized-topic-models==2.3.0) (5.3.4)\n",
            "Collecting widgetsnbextension~=3.5.0\n",
            "  Downloading widgetsnbextension-3.5.2-py2.py3-none-any.whl (1.6 MB)\n",
            "\u001b[K     |████████████████████████████████| 1.6 MB 44.5 MB/s \n",
            "\u001b[?25hRequirement already satisfied: nbformat>=4.2.0 in /usr/local/lib/python3.8/dist-packages (from ipywidgets==7.5.1->contextualized-topic-models==2.3.0) (5.7.0)\n",
            "Requirement already satisfied: smart-open>=1.8.1 in /usr/local/lib/python3.8/dist-packages (from gensim>=3.8.3->contextualized-topic-models==2.3.0) (5.2.1)\n",
            "Requirement already satisfied: tornado>=4.2 in /usr/local/lib/python3.8/dist-packages (from ipykernel>=4.5.1->ipywidgets==7.5.1->contextualized-topic-models==2.3.0) (6.0.4)\n",
            "Requirement already satisfied: jupyter-client in /usr/local/lib/python3.8/dist-packages (from ipykernel>=4.5.1->ipywidgets==7.5.1->contextualized-topic-models==2.3.0) (6.1.12)\n",
            "Collecting parso<0.8.0,>=0.7.0\n",
            "  Downloading parso-0.7.1-py2.py3-none-any.whl (109 kB)\n",
            "\u001b[K     |████████████████████████████████| 109 kB 17.2 MB/s \n",
            "\u001b[?25hRequirement already satisfied: python-dateutil>=2.1 in /usr/local/lib/python3.8/dist-packages (from matplotlib>=3.1.3->contextualized-topic-models==2.3.0) (2.8.2)\n",
            "Requirement already satisfied: pyparsing!=2.0.4,!=2.1.2,!=2.1.6,>=2.0.1 in /usr/local/lib/python3.8/dist-packages (from matplotlib>=3.1.3->contextualized-topic-models==2.3.0) (3.0.9)\n",
            "Requirement already satisfied: cycler>=0.10 in /usr/local/lib/python3.8/dist-packages (from matplotlib>=3.1.3->contextualized-topic-models==2.3.0) (0.11.0)\n",
            "Requirement already satisfied: kiwisolver>=1.0.1 in /usr/local/lib/python3.8/dist-packages (from matplotlib>=3.1.3->contextualized-topic-models==2.3.0) (1.4.4)\n",
            "Requirement already satisfied: fastjsonschema in /usr/local/lib/python3.8/dist-packages (from nbformat>=4.2.0->ipywidgets==7.5.1->contextualized-topic-models==2.3.0) (2.16.2)\n",
            "Requirement already satisfied: jupyter-core in /usr/local/lib/python3.8/dist-packages (from nbformat>=4.2.0->ipywidgets==7.5.1->contextualized-topic-models==2.3.0) (5.1.0)\n",
            "Requirement already satisfied: jsonschema>=2.6 in /usr/local/lib/python3.8/dist-packages (from nbformat>=4.2.0->ipywidgets==7.5.1->contextualized-topic-models==2.3.0) (4.3.3)\n",
            "Requirement already satisfied: attrs>=17.4.0 in /usr/local/lib/python3.8/dist-packages (from jsonschema>=2.6->nbformat>=4.2.0->ipywidgets==7.5.1->contextualized-topic-models==2.3.0) (22.1.0)\n",
            "Requirement already satisfied: importlib-resources>=1.4.0 in /usr/local/lib/python3.8/dist-packages (from jsonschema>=2.6->nbformat>=4.2.0->ipywidgets==7.5.1->contextualized-topic-models==2.3.0) (5.10.0)\n",
            "Requirement already satisfied: pyrsistent!=0.17.0,!=0.17.1,!=0.17.2,>=0.14.0 in /usr/local/lib/python3.8/dist-packages (from jsonschema>=2.6->nbformat>=4.2.0->ipywidgets==7.5.1->contextualized-topic-models==2.3.0) (0.19.2)\n",
            "Requirement already satisfied: zipp>=3.1.0 in /usr/local/lib/python3.8/dist-packages (from importlib-resources>=1.4.0->jsonschema>=2.6->nbformat>=4.2.0->ipywidgets==7.5.1->contextualized-topic-models==2.3.0) (3.11.0)\n",
            "Requirement already satisfied: six>=1.9.0 in /usr/local/lib/python3.8/dist-packages (from prompt-toolkit!=3.0.0,!=3.0.1,<3.1.0,>=2.0.0->ipython==7.16.3->contextualized-topic-models==2.3.0) (1.15.0)\n",
            "Requirement already satisfied: wcwidth in /usr/local/lib/python3.8/dist-packages (from prompt-toolkit!=3.0.0,!=3.0.1,<3.1.0,>=2.0.0->ipython==7.16.3->contextualized-topic-models==2.3.0) (0.2.5)\n",
            "Collecting transformers<5.0.0,>=4.6.0\n",
            "  Downloading transformers-4.25.1-py3-none-any.whl (5.8 MB)\n",
            "\u001b[K     |████████████████████████████████| 5.8 MB 52.1 MB/s \n",
            "\u001b[?25hRequirement already satisfied: scikit-learn in /usr/local/lib/python3.8/dist-packages (from sentence-transformers>=1.1.1->contextualized-topic-models==2.3.0) (1.0.2)\n",
            "Requirement already satisfied: nltk in /usr/local/lib/python3.8/dist-packages (from sentence-transformers>=1.1.1->contextualized-topic-models==2.3.0) (3.7)\n",
            "Collecting sentencepiece\n",
            "  Downloading sentencepiece-0.1.97-cp38-cp38-manylinux_2_17_x86_64.manylinux2014_x86_64.whl (1.3 MB)\n",
            "\u001b[K     |████████████████████████████████| 1.3 MB 56.4 MB/s \n",
            "\u001b[?25hCollecting huggingface-hub>=0.4.0\n",
            "  Downloading huggingface_hub-0.11.1-py3-none-any.whl (182 kB)\n",
            "\u001b[K     |████████████████████████████████| 182 kB 69.7 MB/s \n",
            "\u001b[?25hRequirement already satisfied: filelock in /usr/local/lib/python3.8/dist-packages (from huggingface-hub>=0.4.0->sentence-transformers>=1.1.1->contextualized-topic-models==2.3.0) (3.8.0)\n",
            "Requirement already satisfied: pyyaml>=5.1 in /usr/local/lib/python3.8/dist-packages (from huggingface-hub>=0.4.0->sentence-transformers>=1.1.1->contextualized-topic-models==2.3.0) (6.0)\n",
            "Requirement already satisfied: typing-extensions>=3.7.4.3 in /usr/local/lib/python3.8/dist-packages (from huggingface-hub>=0.4.0->sentence-transformers>=1.1.1->contextualized-topic-models==2.3.0) (4.4.0)\n",
            "Requirement already satisfied: packaging>=20.9 in /usr/local/lib/python3.8/dist-packages (from huggingface-hub>=0.4.0->sentence-transformers>=1.1.1->contextualized-topic-models==2.3.0) (21.3)\n",
            "Requirement already satisfied: requests in /usr/local/lib/python3.8/dist-packages (from huggingface-hub>=0.4.0->sentence-transformers>=1.1.1->contextualized-topic-models==2.3.0) (2.23.0)\n",
            "Requirement already satisfied: pillow!=8.3.*,>=5.3.0 in /usr/local/lib/python3.8/dist-packages (from torchvision>=0.7.0->contextualized-topic-models==2.3.0) (7.1.2)\n",
            "Requirement already satisfied: regex!=2019.12.17 in /usr/local/lib/python3.8/dist-packages (from transformers<5.0.0,>=4.6.0->sentence-transformers>=1.1.1->contextualized-topic-models==2.3.0) (2022.6.2)\n",
            "Collecting tokenizers!=0.11.3,<0.14,>=0.11.1\n",
            "  Downloading tokenizers-0.13.2-cp38-cp38-manylinux_2_17_x86_64.manylinux2014_x86_64.whl (7.6 MB)\n",
            "\u001b[K     |████████████████████████████████| 7.6 MB 71.4 MB/s \n",
            "\u001b[?25hRequirement already satisfied: notebook>=4.4.1 in /usr/local/lib/python3.8/dist-packages (from widgetsnbextension~=3.5.0->ipywidgets==7.5.1->contextualized-topic-models==2.3.0) (5.7.16)\n",
            "Requirement already satisfied: terminado>=0.8.1 in /usr/local/lib/python3.8/dist-packages (from notebook>=4.4.1->widgetsnbextension~=3.5.0->ipywidgets==7.5.1->contextualized-topic-models==2.3.0) (0.13.3)\n",
            "Requirement already satisfied: nbconvert<6.0 in /usr/local/lib/python3.8/dist-packages (from notebook>=4.4.1->widgetsnbextension~=3.5.0->ipywidgets==7.5.1->contextualized-topic-models==2.3.0) (5.6.1)\n",
            "Requirement already satisfied: Send2Trash in /usr/local/lib/python3.8/dist-packages (from notebook>=4.4.1->widgetsnbextension~=3.5.0->ipywidgets==7.5.1->contextualized-topic-models==2.3.0) (1.8.0)\n",
            "Requirement already satisfied: ipython-genutils in /usr/local/lib/python3.8/dist-packages (from notebook>=4.4.1->widgetsnbextension~=3.5.0->ipywidgets==7.5.1->contextualized-topic-models==2.3.0) (0.2.0)\n",
            "Requirement already satisfied: pyzmq>=17 in /usr/local/lib/python3.8/dist-packages (from notebook>=4.4.1->widgetsnbextension~=3.5.0->ipywidgets==7.5.1->contextualized-topic-models==2.3.0) (23.2.1)\n",
            "Requirement already satisfied: prometheus-client in /usr/local/lib/python3.8/dist-packages (from notebook>=4.4.1->widgetsnbextension~=3.5.0->ipywidgets==7.5.1->contextualized-topic-models==2.3.0) (0.15.0)\n",
            "Requirement already satisfied: jinja2<=3.0.0 in /usr/local/lib/python3.8/dist-packages (from notebook>=4.4.1->widgetsnbextension~=3.5.0->ipywidgets==7.5.1->contextualized-topic-models==2.3.0) (2.11.3)\n",
            "Requirement already satisfied: MarkupSafe>=0.23 in /usr/local/lib/python3.8/dist-packages (from jinja2<=3.0.0->notebook>=4.4.1->widgetsnbextension~=3.5.0->ipywidgets==7.5.1->contextualized-topic-models==2.3.0) (2.0.1)\n",
            "Requirement already satisfied: platformdirs>=2.5 in /usr/local/lib/python3.8/dist-packages (from jupyter-core->nbformat>=4.2.0->ipywidgets==7.5.1->contextualized-topic-models==2.3.0) (2.5.4)\n",
            "Requirement already satisfied: mistune<2,>=0.8.1 in /usr/local/lib/python3.8/dist-packages (from nbconvert<6.0->notebook>=4.4.1->widgetsnbextension~=3.5.0->ipywidgets==7.5.1->contextualized-topic-models==2.3.0) (0.8.4)\n",
            "Requirement already satisfied: defusedxml in /usr/local/lib/python3.8/dist-packages (from nbconvert<6.0->notebook>=4.4.1->widgetsnbextension~=3.5.0->ipywidgets==7.5.1->contextualized-topic-models==2.3.0) (0.7.1)\n",
            "Requirement already satisfied: testpath in /usr/local/lib/python3.8/dist-packages (from nbconvert<6.0->notebook>=4.4.1->widgetsnbextension~=3.5.0->ipywidgets==7.5.1->contextualized-topic-models==2.3.0) (0.6.0)\n",
            "Requirement already satisfied: bleach in /usr/local/lib/python3.8/dist-packages (from nbconvert<6.0->notebook>=4.4.1->widgetsnbextension~=3.5.0->ipywidgets==7.5.1->contextualized-topic-models==2.3.0) (5.0.1)\n",
            "Requirement already satisfied: entrypoints>=0.2.2 in /usr/local/lib/python3.8/dist-packages (from nbconvert<6.0->notebook>=4.4.1->widgetsnbextension~=3.5.0->ipywidgets==7.5.1->contextualized-topic-models==2.3.0) (0.4)\n",
            "Requirement already satisfied: pandocfilters>=1.4.1 in /usr/local/lib/python3.8/dist-packages (from nbconvert<6.0->notebook>=4.4.1->widgetsnbextension~=3.5.0->ipywidgets==7.5.1->contextualized-topic-models==2.3.0) (1.5.0)\n",
            "Requirement already satisfied: ptyprocess in /usr/local/lib/python3.8/dist-packages (from terminado>=0.8.1->notebook>=4.4.1->widgetsnbextension~=3.5.0->ipywidgets==7.5.1->contextualized-topic-models==2.3.0) (0.7.0)\n",
            "Requirement already satisfied: webencodings in /usr/local/lib/python3.8/dist-packages (from bleach->nbconvert<6.0->notebook>=4.4.1->widgetsnbextension~=3.5.0->ipywidgets==7.5.1->contextualized-topic-models==2.3.0) (0.5.1)\n",
            "Requirement already satisfied: click in /usr/local/lib/python3.8/dist-packages (from nltk->sentence-transformers>=1.1.1->contextualized-topic-models==2.3.0) (7.1.2)\n",
            "Requirement already satisfied: joblib in /usr/local/lib/python3.8/dist-packages (from nltk->sentence-transformers>=1.1.1->contextualized-topic-models==2.3.0) (1.2.0)\n",
            "Requirement already satisfied: idna<3,>=2.5 in /usr/local/lib/python3.8/dist-packages (from requests->huggingface-hub>=0.4.0->sentence-transformers>=1.1.1->contextualized-topic-models==2.3.0) (2.10)\n",
            "Requirement already satisfied: chardet<4,>=3.0.2 in /usr/local/lib/python3.8/dist-packages (from requests->huggingface-hub>=0.4.0->sentence-transformers>=1.1.1->contextualized-topic-models==2.3.0) (3.0.4)\n",
            "Requirement already satisfied: certifi>=2017.4.17 in /usr/local/lib/python3.8/dist-packages (from requests->huggingface-hub>=0.4.0->sentence-transformers>=1.1.1->contextualized-topic-models==2.3.0) (2022.9.24)\n",
            "Requirement already satisfied: urllib3!=1.25.0,!=1.25.1,<1.26,>=1.21.1 in /usr/local/lib/python3.8/dist-packages (from requests->huggingface-hub>=0.4.0->sentence-transformers>=1.1.1->contextualized-topic-models==2.3.0) (1.24.3)\n",
            "Requirement already satisfied: threadpoolctl>=2.0.0 in /usr/local/lib/python3.8/dist-packages (from scikit-learn->sentence-transformers>=1.1.1->contextualized-topic-models==2.3.0) (3.1.0)\n",
            "Building wheels for collected packages: sentence-transformers\n",
            "  Building wheel for sentence-transformers (setup.py) ... \u001b[?25l\u001b[?25hdone\n",
            "  Created wheel for sentence-transformers: filename=sentence_transformers-2.2.2-py3-none-any.whl size=125938 sha256=df33baa932502fbbf12a2787f1d3d749035f87927c4e6ad53ca2246c248433e5\n",
            "  Stored in directory: /root/.cache/pip/wheels/5e/6f/8c/d88aec621f3f542d26fac0342bef5e693335d125f4e54aeffe\n",
            "Successfully built sentence-transformers\n",
            "Installing collected packages: parso, jedi, ipython, tokenizers, huggingface-hub, widgetsnbextension, transformers, sentencepiece, sentence-transformers, ipywidgets, gensim, contextualized-topic-models\n",
            "  Attempting uninstall: parso\n",
            "    Found existing installation: parso 0.8.3\n",
            "    Uninstalling parso-0.8.3:\n",
            "      Successfully uninstalled parso-0.8.3\n",
            "  Attempting uninstall: ipython\n",
            "    Found existing installation: ipython 7.9.0\n",
            "    Uninstalling ipython-7.9.0:\n",
            "      Successfully uninstalled ipython-7.9.0\n",
            "  Attempting uninstall: widgetsnbextension\n",
            "    Found existing installation: widgetsnbextension 3.6.1\n",
            "    Uninstalling widgetsnbextension-3.6.1:\n",
            "      Successfully uninstalled widgetsnbextension-3.6.1\n",
            "  Attempting uninstall: ipywidgets\n",
            "    Found existing installation: ipywidgets 7.7.1\n",
            "    Uninstalling ipywidgets-7.7.1:\n",
            "      Successfully uninstalled ipywidgets-7.7.1\n",
            "  Attempting uninstall: gensim\n",
            "    Found existing installation: gensim 3.6.0\n",
            "    Uninstalling gensim-3.6.0:\n",
            "      Successfully uninstalled gensim-3.6.0\n",
            "\u001b[31mERROR: pip's dependency resolver does not currently take into account all the packages that are installed. This behaviour is the source of the following dependency conflicts.\n",
            "google-colab 1.0.0 requires ipython~=7.9.0, but you have ipython 7.16.3 which is incompatible.\u001b[0m\n",
            "Successfully installed contextualized-topic-models-2.3.0 gensim-4.2.0 huggingface-hub-0.11.1 ipython-7.16.3 ipywidgets-7.5.1 jedi-0.17.2 parso-0.7.1 sentence-transformers-2.2.2 sentencepiece-0.1.97 tokenizers-0.13.2 transformers-4.25.1 widgetsnbextension-3.5.2\n"
          ]
        },
        {
          "data": {
            "application/vnd.colab-display-data+json": {
              "pip_warning": {
                "packages": [
                  "IPython"
                ]
              }
            }
          },
          "metadata": {},
          "output_type": "display_data"
        }
      ],
      "source": [
        "!pip install contextualized-topic-models==2.3.0"
      ]
    },
    {
      "cell_type": "code",
      "execution_count": null,
      "metadata": {
        "id": "sZgrJ67izeE7"
      },
      "outputs": [],
      "source": [
        "%%capture\n",
        "!pip install pyldavis"
      ]
    },
    {
      "cell_type": "code",
      "execution_count": null,
      "metadata": {
        "colab": {
          "base_uri": "https://localhost:8080/"
        },
        "id": "ypbT5wTLDoNo",
        "outputId": "0cb111d9-5296-4508-e249-67a2e7d6e485"
      },
      "outputs": [
        {
          "name": "stderr",
          "output_type": "stream",
          "text": [
            "[nltk_data] Downloading package stopwords to /root/nltk_data...\n",
            "[nltk_data]   Unzipping corpora/stopwords.zip.\n",
            "[nltk_data] Downloading package wordnet to /root/nltk_data...\n",
            "[nltk_data] Downloading package omw-1.4 to /root/nltk_data...\n"
          ]
        }
      ],
      "source": [
        "import re\n",
        "import urllib\n",
        "import gzip\n",
        "import io\n",
        "import csv\n",
        "import random\n",
        "from collections import defaultdict\n",
        "from tqdm import tqdm\n",
        "import nltk\n",
        "nltk.download('stopwords')\n",
        "nltk.download('wordnet')\n",
        "nltk.download('omw-1.4')\n",
        "\n",
        "from sklearn.decomposition import LatentDirichletAllocation\n",
        "from sklearn.feature_extraction.text import TfidfVectorizer, CountVectorizer\n",
        "\n",
        "from contextualized_topic_models.models.ctm import CombinedTM\n",
        "from contextualized_topic_models.utils.data_preparation import TopicModelDataPreparation\n",
        "from contextualized_topic_models.utils.preprocessing import WhiteSpacePreprocessingStopwords"
      ]
    },
    {
      "cell_type": "code",
      "execution_count": null,
      "metadata": {
        "id": "tN-y8qyTEQUP"
      },
      "outputs": [],
      "source": [
        "path_before_1990 = '/content/drive/My Drive/titles_before_1990.txt'\n",
        "path_from_1990_to_2009 = '/content/drive/My Drive/titles_from_1990_to_2009.txt'\n",
        "path_from_2010 = '/content/drive/My Drive/titles_from_2010.txt'"
      ]
    },
    {
      "cell_type": "code",
      "execution_count": null,
      "metadata": {
        "colab": {
          "base_uri": "https://localhost:8080/"
        },
        "id": "sLMPPE2eERYa",
        "outputId": "22368064-d33d-4dfb-824c-67df866c20a0"
      },
      "outputs": [
        {
          "name": "stdout",
          "output_type": "stream",
          "text": [
            "Mounted at /content/drive\n"
          ]
        },
        {
          "name": "stderr",
          "output_type": "stream",
          "text": [
            "14922037it [00:32, 457292.96it/s]\n"
          ]
        }
      ],
      "source": [
        "from google.colab import drive\n",
        "drive.mount('/content/drive')\n",
        "\n",
        "# to download the data manually or get more information, go to: https://dblp.org/faq/How+can+I+download+the+whole+dblp+dataset.html\n",
        "url = 'https://dblp.uni-trier.de/xml/dblp.xml.gz'\n",
        "# num_titles = 500000  # the (max)number of titles to load \n",
        "\n",
        "\n",
        "def load_gzip_file(url):\n",
        "    \"\"\"Download Gzip-file.\"\"\"\n",
        "    response = urllib.request.urlopen(url)\n",
        "    compressed_file = io.BytesIO(response.read())\n",
        "    decompressed_file = gzip.GzipFile(fileobj=compressed_file)\n",
        "    return decompressed_file\n",
        "\n",
        "def extract_titles(input_file, max_num=40000):\n",
        "    \"\"\"Extract title and publication year of dblp papers, given as input file.\n",
        "    \n",
        "    Divide the papers into 3 time periods. \n",
        "    \n",
        "    Collect max max_num papers per time period.\n",
        "    \"\"\"\n",
        "    pairs_before_1990 = []\n",
        "    count_before_1990 = 0\n",
        "    pairs_from_1990_to_2009 = []\n",
        "    count_from_1990_to_2009 = 0\n",
        "    pairs_from_2010 = []\n",
        "    count_from_2010 = 0\n",
        "    got_title = False\n",
        "    for line in tqdm(input_file):\n",
        "        line_str = line.decode('utf-8')\n",
        "        if got_title: \n",
        "            # we have a title and check for the corresponding year\n",
        "            year_result = re.search(r'<year>(.*)</year>', line_str)\n",
        "            if year_result:\n",
        "                # we also have the year and thus save the title-year pair\n",
        "                year = int(year_result.group(1))\n",
        "                if year < 1990:\n",
        "                    pairs_before_1990.append((title, year))\n",
        "                    count_before_1990 += 1\n",
        "                elif year < 2010:\n",
        "                    pairs_from_1990_to_2009.append((title, year))\n",
        "                    count_from_1990_to_2009 += 1\n",
        "                else:\n",
        "                    pairs_from_2010.append((title, year))\n",
        "                    count_from_2010 += 1\n",
        "                got_title = False\n",
        "        else:\n",
        "            # we have no title and search for title\n",
        "            result = re.search(r'<title>(.*)</title>', line_str)\n",
        "            if result:\n",
        "                title = result.group(1)\n",
        "                if len(title.split(' ')) < 3:  \n",
        "                    # only include titles with at least four words\n",
        "                    continue\n",
        "                got_title = True\n",
        "        \n",
        "        if count_before_1990 >= max_num and count_from_1990_to_2009 >= max_num and count_from_2010 >= max_num:\n",
        "            return pairs_before_1990, pairs_from_1990_to_2009, pairs_from_2010\n",
        "    \n",
        "    return pairs_before_1990, pairs_from_1990_to_2009, pairs_from_2010\n",
        "\n",
        "def save_data(pairs, file_path):\n",
        "    with open(file_path, 'w') as fout:\n",
        "        writer = csv.writer(fout)\n",
        "        for pair in pairs:\n",
        "            writer.writerow(pair)\n",
        "\n",
        "in_file = load_gzip_file(url)\n",
        "pairs_before_1990, pairs_from_1990_to_2009, pairs_from_2010 = extract_titles(in_file)\n",
        "save_data(pairs_before_1990, path_before_1990)\n",
        "save_data(pairs_from_1990_to_2009, path_from_1990_to_2009)\n",
        "save_data(pairs_from_2010, path_from_2010)"
      ]
    },
    {
      "cell_type": "code",
      "execution_count": null,
      "metadata": {
        "colab": {
          "base_uri": "https://localhost:8080/"
        },
        "id": "HNOKifrnEspM",
        "outputId": "092f1ba1-6a3f-47bd-b1eb-7858c852d68d"
      },
      "outputs": [
        {
          "name": "stdout",
          "output_type": "stream",
          "text": [
            "Drive already mounted at /content/drive; to attempt to forcibly remount, call drive.mount(\"/content/drive\", force_remount=True).\n"
          ]
        }
      ],
      "source": [
        "from google.colab import drive\n",
        "drive.mount('/content/drive')"
      ]
    },
    {
      "attachments": {},
      "cell_type": "markdown",
      "metadata": {
        "id": "Rhej2dOcanv4"
      },
      "source": [
        "# Utility classes"
      ]
    },
    {
      "cell_type": "code",
      "execution_count": null,
      "metadata": {
        "id": "9L43w8ErE3cl"
      },
      "outputs": [],
      "source": [
        "# make class to preprocess text data\n",
        "class PreprocessText:\n",
        "  \"\"\"\n",
        "  DESCRIPTION: Class to process tweets. \n",
        "  NOTE: This class also deletes stop words\n",
        "  \"\"\"\n",
        "  def preprocess(self, text):\n",
        "    #This function is used to return the preprocessed text\n",
        "    text = [self.__lowercase(title) for title in text]\n",
        "    text = [self.__remove_stopwords(title) for title in text]\n",
        "    text = [self.__lemmatize(title) for title in text]\n",
        "    text = [self.__deletePunctuation(title) for title in text]\n",
        "\n",
        "    return text\n",
        "\n",
        "  def __lowercase(self, text):\n",
        "    #This function is used to convert the text into lowercase\n",
        "    #for example: Hello,HELLO,hello all are converted into hello\n",
        "    return text.lower()\n",
        "\n",
        "  def __remove_stopwords(self, text):\n",
        "    #This function is used to remove the stopwords from the text\n",
        "    #stopwords are the words which are not important for the text\n",
        "    #like a,an,the,etc\n",
        "    #we are using nltk library to remove the stopwords\n",
        "    #we are using the english stopwords\n",
        "    stopwords = nltk.corpus.stopwords.words('english')\n",
        "    return ' '.join([word for word in text.split() if word not in stopwords])\n",
        "\n",
        "  def __lemmatize(self, text):\n",
        "    #This function is used to lemmatize the text\n",
        "    #lemmatization is the process of converting the word into its root word\n",
        "    #for example: running,runs,ran,run\n",
        "    #all these words are converted into run\n",
        "    #we are using nltk library to lemmatize the text\n",
        "    #we are using the wordnet lemmatizer\n",
        "    \n",
        "    lemmatizer = nltk.WordNetLemmatizer()\n",
        "    return ' '.join([lemmatizer.lemmatize(word) for word in text.split()])\n",
        "    \n",
        "  def __deletePunctuation(self, text):\n",
        "    #This function is used to remove the punctuations from the text\n",
        "    #for LDA, numerals and punctuation are not of importance.\n",
        "    return re.sub(r'[^\\w\\s]','',text)\n",
        "\n",
        "PP = PreprocessText()"
      ]
    },
    {
      "cell_type": "code",
      "execution_count": null,
      "metadata": {
        "id": "em9bQZDXdyp_"
      },
      "outputs": [],
      "source": [
        "class LDAModeler:\n",
        "  def __init__(self, Prepro_object, path_to_file, num_lda_topics):\n",
        "    \"\"\"\n",
        "    DESCRIPTION: Object that makes it simple to apply topic modeling.\n",
        "    USE: To use this class, simply initialise it, no need to save it in a variable\n",
        "    \"\"\"\n",
        "    #define attributes\n",
        "    self.PP = Prepro_object\n",
        "    self.path_to_file = path_to_file\n",
        "    self.num_lda_topics = num_lda_topics\n",
        "\n",
        "    #make a list with all titles\n",
        "    with open(self.path_to_file) as fin:\n",
        "        self.reader = csv.reader(fin)\n",
        "        self.titles = [row[0] for row in self.reader]\n",
        "\n",
        "    #preprocess all the titles\n",
        "    self.titles = self.PP.preprocess(self.titles)\n",
        "\n",
        "    print(\"------------------------------------\")\n",
        "    print(\"Preprocessed Titles:\")\n",
        "    print(self.titles[:10])\n",
        "    print(\"------------------------------------\")\n",
        "\n",
        "    #setup for Latent Dirichlet Allocation. In particular use tf-idf.\n",
        "    self.num_features = 10000\n",
        "    self.tf_vectorizer = CountVectorizer(max_df=0.95, min_df=2, max_features=self.num_features, stop_words='english')\n",
        "    self.tf = self.tf_vectorizer.fit_transform(self.titles)\n",
        "    self.tf_feature_names = self.tf_vectorizer.get_feature_names_out()\n",
        "\n",
        "    #train model\n",
        "    self.lda = LatentDirichletAllocation(n_components=self.num_lda_topics, max_iter=5, learning_method='online', random_state=42).fit(self.tf)\n",
        "\n",
        "    #report output\n",
        "    print(\"\\n\")\n",
        "    print(\"------------------------------------\")\n",
        "    print(\"Topics:\")\n",
        "    for topic_idx, topic in enumerate(self.lda.components_):\n",
        "      print(f'Topic {topic_idx}:', end=' ')\n",
        "      print(' '.join([self.tf_feature_names[i] for i in topic.argsort()[:-12 - 1:-1]]))\n",
        "    print(\"------------------------------------\")"
      ]
    },
    {
      "attachments": {},
      "cell_type": "markdown",
      "metadata": {
        "id": "voWrSiv6xp0s"
      },
      "source": [
        "# Task 1"
      ]
    },
    {
      "cell_type": "markdown",
      "metadata": {
        "id": "SVjWv3TzoePZ"
      },
      "source": [
        "## Until 1990"
      ]
    },
    {
      "cell_type": "code",
      "execution_count": null,
      "metadata": {
        "colab": {
          "base_uri": "https://localhost:8080/"
        },
        "id": "8mlPwCm_hZdl",
        "outputId": "9a30b925-71f5-4030-c063-7466c617ba2a"
      },
      "outputs": [
        {
          "name": "stdout",
          "output_type": "stream",
          "text": [
            "------------------------------------\n",
            "Preprocessed Titles:\n",
            "['object model capability distributed object management', 'distributed object management technology', 'muffin distributed database machine', 'algebraical optimization ftaexpressions', 'wissensrepraumlsentation und maschinelles lernen', 'algebraic characterization stuf', 'zur systemarchitektur von lilog', 'mengenorientierte auswertung von anfragen der logikprogrammiersprache prolog', 'definite resolution constraint language', 'dokumentation der syntax der liloggrammatik']\n",
            "------------------------------------\n",
            "\n",
            "\n",
            "------------------------------------\n",
            "Topics:\n",
            "Topic 0: algorithm problem networks logic parallel digital chemical computing von processing evaluation circuits\n",
            "Topic 1: design information approach application programming systems logic graph implementation development adaptive multiple\n",
            "Topic 2: computer control linear new method software time technique dynamic number optimal comment\n",
            "Topic 3: systems analysis data theory network model using distributed sequential language memory machine\n",
            "Topic 4: note function recognition structure functions pattern solution set class der using synthesis\n",
            "------------------------------------\n"
          ]
        },
        {
          "data": {
            "text/plain": [
              "<__main__.LDAModeler at 0x7f95ee3c7520>"
            ]
          },
          "execution_count": 17,
          "metadata": {},
          "output_type": "execute_result"
        }
      ],
      "source": [
        "LDAModeler(PP, path_before_1990, 5)\n",
        "\n",
        "#Topic 0 = network analysis\n",
        "#Topic 1 = systems design\n",
        "#Topic 2 = topics in AI\n",
        "#Topic 3 = Data systems and theory\n",
        "#Topic 4 = pattern recognition "
      ]
    },
    {
      "cell_type": "code",
      "execution_count": null,
      "metadata": {
        "colab": {
          "base_uri": "https://localhost:8080/"
        },
        "id": "cm33hetbE6zS",
        "outputId": "b9852867-d9a1-4b0f-e7c4-89c18e08c839"
      },
      "outputs": [
        {
          "name": "stdout",
          "output_type": "stream",
          "text": [
            "------------------------------------\n",
            "Preprocessed Titles:\n",
            "['object model capability distributed object management', 'distributed object management technology', 'muffin distributed database machine', 'algebraical optimization ftaexpressions', 'wissensrepraumlsentation und maschinelles lernen', 'algebraic characterization stuf', 'zur systemarchitektur von lilog', 'mengenorientierte auswertung von anfragen der logikprogrammiersprache prolog', 'definite resolution constraint language', 'dokumentation der syntax der liloggrammatik']\n",
            "------------------------------------\n",
            "\n",
            "\n",
            "------------------------------------\n",
            "Topics:\n",
            "Topic 0: optimal circuits switching synthesis search bound knowledge graphs comparison editor letter special\n",
            "Topic 1: control problem approach dynamic detection error performance array applications code models propositional\n",
            "Topic 2: language implementation use estimation generation test natural robot multiprocessor computational decomposition single\n",
            "Topic 3: communication chemical evaluation research identification efficient procedure languages storage fuzzy algorithms retrieval\n",
            "Topic 4: theory application parallel digital functions simulation development process based nonlinear scheduling technology\n",
            "Topic 5: decision zur service operation semantics automaten support assignment object minimization ein existence\n",
            "Topic 6: computer using software finite distributed property boolean processor multiple parameter scheme online\n",
            "Topic 7: set architecture image stochastic optimization model remark management computers queueing faulttolerant automata\n",
            "Topic 8: design information binary computation science report order distribution paper processes overview product\n",
            "Topic 9: linear processing comment programs vector implication transformation markov mean open response association\n",
            "Topic 10: number der und random recursive effect line mit realization fuumlr arrays grammars\n",
            "Topic 11: structure review introduction machines discrete point strategy editors guest book scientific elementary\n",
            "Topic 12: algorithm memory computing automatic general matrix space feedback combinational magnetic symbolic sequence\n",
            "Topic 13: analysis model networks recognition sequential time pattern graph problems state circuit simple\n",
            "Topic 14: network new technique program class study ii large survey result reliability case\n",
            "Topic 15: data note method function technical representation fast modal type calculus base logical\n",
            "Topic 16: theorem solution adaptive generalized tree arithmetic interactive graphic structures polynomial asynchronous microprocessor\n",
            "Topic 17: complexity sets classification rule standard measure highspeed construction measurement university cost location\n",
            "Topic 18: logic programming von fault feature intelligence artificial access uumlber functional reduction mathematical\n",
            "Topic 19: systems machine database algebra analog group integrated distributed future user relational experimental\n",
            "------------------------------------\n"
          ]
        },
        {
          "data": {
            "text/plain": [
              "<__main__.LDAModeler at 0x7f95ee3c7dc0>"
            ]
          },
          "execution_count": 18,
          "metadata": {},
          "output_type": "execute_result"
        }
      ],
      "source": [
        "LDAModeler(PP, path_before_1990, 20)\n",
        "\n",
        "#T0 = Digital Circuits\n",
        "#T1 = incoherent\n",
        "#T2 = natural language processing\n",
        "#T3 = incoherent\n",
        "#T4 = Data Systems and theory\n",
        "#T5 = incoherent\n",
        "#T6 = Theoretical Computer Science\n",
        "#T7 = Computer Vision\n",
        "#T8 = Empirical Software Engineering\n",
        "#T9 = Software engineering\n",
        "#T10 = Data Structures and Algorithms\n",
        "#T11 = Discrete Mathematics in Computer Science\n",
        "#T12 = Data Structures and Algorithms\n",
        "#T13 = Pattern recognition\n",
        "#T14 = Survey Analytics\n",
        "#T15 = Optimization\n",
        "#T16 = Computer Fundamentals\n",
        "#T17 = Data Structures and Algorithms\n",
        "#T18 = incoherent\n",
        "#T20 = Database Systems"
      ]
    },
    {
      "cell_type": "markdown",
      "metadata": {
        "id": "QdfM9Y1vakkD"
      },
      "source": [
        "## Between 1990 and 2009\n"
      ]
    },
    {
      "cell_type": "code",
      "execution_count": null,
      "metadata": {
        "colab": {
          "base_uri": "https://localhost:8080/"
        },
        "id": "bJLOYLrLa6sy",
        "outputId": "8b241b09-4469-404a-fe00-c2aad9c91983"
      },
      "outputs": [
        {
          "name": "stdout",
          "output_type": "stream",
          "text": [
            "------------------------------------\n",
            "Preprocessed Titles:\n",
            "['evaluation objectoriented dbms developments 1994 edition', 'darwin incremental migration legacy information system', 'integrating heterogeneous autonomous distributed application using dom prototype', 'integrating objectoriented application middleware relational databases', 'towards transaction management system dom', 'risc object model object system interoperation concept applications', 'metaobject protocol concept risc object model', 'object data language facility multimedia data types', 'object data model facility multimedia data types', 'experiment dispatching distributed object system']\n",
            "------------------------------------\n",
            "\n",
            "\n",
            "------------------------------------\n",
            "Topics:\n",
            "Topic 0: model robust detection evaluation parallel function graph communication class recognition logic applications\n",
            "Topic 1: systems analysis design data information study performance scheme structure technology theory computing\n",
            "Topic 2: control using method network linear algorithm nonlinear new application approach optimal estimation\n",
            "Topic 3: based networks adaptive identification neural effect generalized equations issue programming sensor differential\n",
            "Topic 4: problem using dynamic approach management development set software multiple method digital problems\n",
            "------------------------------------\n"
          ]
        },
        {
          "data": {
            "text/plain": [
              "<__main__.LDAModeler at 0x7f95edeac340>"
            ]
          },
          "execution_count": 19,
          "metadata": {},
          "output_type": "execute_result"
        }
      ],
      "source": [
        "LDAModeler(PP, path_from_1990_to_2009, 5)\n",
        "\n",
        "#T0 = Cyber Security\n",
        "#T1 = Data Systems and Theory\n",
        "#T2 = Regression\n",
        "#T3 = Signal Processing\n",
        "#T4 = Data Structures and Algorithms"
      ]
    },
    {
      "cell_type": "code",
      "execution_count": null,
      "metadata": {
        "colab": {
          "base_uri": "https://localhost:8080/"
        },
        "id": "nvkzWYOjdukz",
        "outputId": "ac1b959b-8930-48f5-c6d5-19f4dbacc7d4"
      },
      "outputs": [
        {
          "name": "stdout",
          "output_type": "stream",
          "text": [
            "------------------------------------\n",
            "Preprocessed Titles:\n",
            "['evaluation objectoriented dbms developments 1994 edition', 'darwin incremental migration legacy information system', 'integrating heterogeneous autonomous distributed application using dom prototype', 'integrating objectoriented application middleware relational databases', 'towards transaction management system dom', 'risc object model object system interoperation concept applications', 'metaobject protocol concept risc object model', 'object data language facility multimedia data types', 'object data model facility multimedia data types', 'experiment dispatching distributed object system']\n",
            "------------------------------------\n",
            "\n",
            "\n",
            "------------------------------------\n",
            "Topics:\n",
            "Topic 0: networks neural detection evaluation graphs issue sensor internet code representation modelling images\n",
            "Topic 1: data structure development theory software computing prediction automatic functions engineering change role\n",
            "Topic 2: identification processing support language machine retrieval fmri mining interactive rule manufacturing semantic\n",
            "Topic 3: model dynamic generalized parameter user assessment criterion verification sar report cortex twodimensional\n",
            "Topic 4: information set multiple class finite digital power group stabilization review domain simple\n",
            "Topic 5: adaptive computer molecular search speech visual distance comment guest isbn science similarity\n",
            "Topic 6: linear new study solution time equation technique case process problems approach models\n",
            "Topic 7: performance estimation scheme mobile communication architecture recognition framework channel spatial threedimensional spectrum\n",
            "Topic 8: design problem optimal feedback numerical comparison property controller solving novel computational output\n",
            "Topic 9: image modeling fuzzy realtime discrete surface tracking measurement stochastic video optical periodic\n",
            "Topic 10: algorithm simulation scheduling state approximation routing virtual environment distribution pattern complexity strategy\n",
            "Topic 11: using method application parallel distributed knowledge protocol large object brain value paper\n",
            "Topic 12: robust efficient function graph logic fast decision planning noise path synthesis reasoning\n",
            "Topic 13: learning classification online filter quality response impact protein cellular hierarchical evolution volume\n",
            "Topic 14: nonlinear order boundary signal database memory condition sequence variable fault timevarying continuous\n",
            "Topic 15: control equations flow space differential computation uncertain general access partial clustering uncertainty\n",
            "Topic 16: systems based management technology research web implementation matrix hybrid delay approach tool\n",
            "Topic 17: human frequency interaction satellite wave clinical weighted location radio book base force\n",
            "Topic 18: approach optimization effect programming global 3d selection local point genetic traffic decomposition\n",
            "Topic 19: analysis network stability wireless service applications robot error special multimedia transmission business\n",
            "------------------------------------\n"
          ]
        },
        {
          "data": {
            "text/plain": [
              "<__main__.LDAModeler at 0x7f95edeac310>"
            ]
          },
          "execution_count": 20,
          "metadata": {},
          "output_type": "execute_result"
        }
      ],
      "source": [
        "LDAModeler(PP, path_from_1990_to_2009, 20)\n",
        "\n",
        "#T0 = Machine Learning\n",
        "#T1 = Data Structures and Algorithms\n",
        "#T2 = Machine Learning on Medical Data\n",
        "#T3 = Machine Learning on Medical Data\n",
        "#T4 = Sustainanility and Digitalisation\n",
        "#T5 = incoherent\n",
        "#T6 = incoherent\n",
        "#T7 = Mobile Applications\n",
        "#T8 = Explainable AI\n",
        "#T9 = Machine Learning on Video Data \n",
        "#T10 = Distributed Systems\n",
        "#T11 = incoherent\n",
        "#T12 = incoherent\n",
        "#T13 = incoherent\n",
        "#T14 = incoherent\n",
        "#T15 = Foundations of Data Science\n",
        "#T16 = Web Development\n",
        "#T17 = Signal Processing\n",
        "#T18 = Self Driving Cars\n",
        "#T19 = Network Analysis"
      ]
    },
    {
      "attachments": {},
      "cell_type": "markdown",
      "metadata": {
        "id": "bbdytuIWpJSI"
      },
      "source": [
        "## After 2010"
      ]
    },
    {
      "cell_type": "code",
      "execution_count": null,
      "metadata": {
        "colab": {
          "base_uri": "https://localhost:8080/"
        },
        "id": "1Jid08fgo8iy",
        "outputId": "00c241f2-b4cd-4041-a77e-fbb86ab2c7f2"
      },
      "outputs": [
        {
          "name": "stdout",
          "output_type": "stream",
          "text": [
            "------------------------------------\n",
            "Preprocessed Titles:\n",
            "['spectre attacks exploiting speculative execution', 'computer science curriculum 2013', 'difference productivity impact across different computer science subareas', 'klaus tschira stiftung gemeinnuumltzige gmbh kt', 'catchment classification runoff behaviour selforganizing map som', 'analysis projected hydrological behavior catchment based signature index', 'ear shape biometric identification', 'multithreaded implementation cryptography cryptanalysis', 'privacypreserving authentication wireless access networks', 'private key cryptosystem']\n",
            "------------------------------------\n",
            "\n",
            "\n",
            "------------------------------------\n",
            "Topics:\n",
            "Topic 0: model network networks detection problem neural efficient wireless analysis mobile framework sensor\n",
            "Topic 1: data estimation optimization performance hybrid social evaluation online graph approach analysis information\n",
            "Topic 2: using based adaptive study new time classification prediction state case process effect\n",
            "Topic 3: algorithm systems design image nonlinear linear scheme distributed optimal power communication simulation\n",
            "Topic 4: method control learning dynamic application equation energy data tracking machine approach strategy\n",
            "------------------------------------\n"
          ]
        },
        {
          "data": {
            "text/plain": [
              "<__main__.LDAModeler at 0x7f95edec9790>"
            ]
          },
          "execution_count": 21,
          "metadata": {},
          "output_type": "execute_result"
        }
      ],
      "source": [
        "LDAModeler(PP, path_from_2010, 5)\n",
        "#T0 = Efficient Machine Learning\n",
        "#T1 = Deep Learning\n",
        "#T2 = Machine Learning\n",
        "#T3 = Optimization Algorithms\n",
        "#T4 = Self-Supervised Learning"
      ]
    },
    {
      "cell_type": "code",
      "execution_count": null,
      "metadata": {
        "colab": {
          "base_uri": "https://localhost:8080/"
        },
        "id": "lsgWJfYhpBs_",
        "outputId": "8a693643-2c50-4057-dbd9-4d959da14066"
      },
      "outputs": [
        {
          "name": "stdout",
          "output_type": "stream",
          "text": [
            "------------------------------------\n",
            "Preprocessed Titles:\n",
            "['spectre attacks exploiting speculative execution', 'computer science curriculum 2013', 'difference productivity impact across different computer science subareas', 'klaus tschira stiftung gemeinnuumltzige gmbh kt', 'catchment classification runoff behaviour selforganizing map som', 'analysis projected hydrological behavior catchment based signature index', 'ear shape biometric identification', 'multithreaded implementation cryptography cryptanalysis', 'privacypreserving authentication wireless access networks', 'private key cryptosystem']\n",
            "------------------------------------\n",
            "\n",
            "\n",
            "------------------------------------\n",
            "Topics:\n",
            "Topic 0: learning distributed framework management computing distribution approach scheduling impact global architecture cooperative\n",
            "Topic 1: solution function feature problems robot graphs solving reduction localization edge extraction connectivity\n",
            "Topic 2: approach new online state 3d service decision processing signal sparse monitoring object\n",
            "Topic 3: finite local functional element field generation imaging number property coupled sampling unknown\n",
            "Topic 4: theory channel data user transfer change controller autonomous task mining influence functions\n",
            "Topic 5: using effect fuzzy simulation machine virtual complex traffic use point pattern automatic\n",
            "Topic 6: linear mobile power fast differential delay set order parallel filter representation mode\n",
            "Topic 7: nonlinear information prediction flow process generalized realtime feedback support approximation motion uncertain\n",
            "Topic 8: algorithm data optimal sensor energy selection structure sensing search fusion filtering role\n",
            "Topic 9: classification numerical health space heterogeneous response joint complexity phase construction integration collaborative\n",
            "Topic 10: scheme stochastic smart vehicle digital resource implementation consensus output reconstruction input weighted\n",
            "Topic 11: estimation boundary visual parameter transmission rate computation hierarchical electronic molecular sharing test\n",
            "Topic 12: improved review multiagent internet cognitive measurement software security fault large integrated type\n",
            "Topic 13: based control equation fractional allocation clustering matrix models error mechanism behavior mimo\n",
            "Topic 14: communication social graph random protocol source privacy platform open understanding synthesis location\n",
            "Topic 15: adaptive study case identification development technology research quality special noise diffusion active\n",
            "Topic 16: method analysis detection dynamic application technique equations code knowledge bayesian spectral product\n",
            "Topic 17: model deep multiple tracking human class applications cloud brain issue images bound\n",
            "Topic 18: systems networks design optimization performance efficient wireless robust time hybrid evaluation stability\n",
            "Topic 19: network image problem neural modeling novel recognition strategy interaction segmentation video assessment\n",
            "------------------------------------\n"
          ]
        },
        {
          "data": {
            "text/plain": [
              "<__main__.LDAModeler at 0x7f95edec93a0>"
            ]
          },
          "execution_count": 22,
          "metadata": {},
          "output_type": "execute_result"
        }
      ],
      "source": [
        "LDAModeler(PP, path_from_2010, 20)\n",
        "\n",
        "#T0 = Distributed Systems\n",
        "#T1 = Theoretical Computer Science\n",
        "#T2 = 3d Modeling\n",
        "#T3 = discrete Mathematics\n",
        "#T4 = Communication Technology\n",
        "#T5 = Virtual Reality\n",
        "#T6 = Computing\n",
        "#T7 = Real-Time Machine Learning\n",
        "#T8 = Sensor Technology\n",
        "#T9 = Machine Learning in Health Care\n",
        "#T10 = Incoherent\n",
        "#T11 = Bayesian Statistics\n",
        "#T12 = Cyber Security\n",
        "#T13 = Machine Learning in Finance\n",
        "#T14 = Social Networks\n",
        "#T15 = Incoherent\n",
        "#T16 = Statistics\n",
        "#T17 = Cloud Computing\n",
        "#T18 = Computer Networks\n",
        "#T19 = Computer Vision"
      ]
    },
    {
      "attachments": {},
      "cell_type": "markdown",
      "metadata": {
        "id": "t6PoXbzp0JLH"
      },
      "source": [
        "# Task 2"
      ]
    },
    {
      "cell_type": "code",
      "execution_count": null,
      "metadata": {
        "id": "Gjg1K4FGkv9B"
      },
      "outputs": [],
      "source": [
        "class CTMModeler:\n",
        "  \n",
        "\n",
        "  def __init__(self, Prepro_object, path_to_file, num_ctm_topics):\n",
        "    self.PP = Prepro_object\n",
        "    self.path_to_file = path_to_file\n",
        "    self.num_ctm_topics = num_ctm_topics\n",
        "    self.stopwords = list(nltk.corpus.stopwords.words(\"english\"))\n",
        "\n",
        "    #make a list with all titles\n",
        "    with open(self.path_to_file) as fin:\n",
        "        self.reader = csv.reader(fin)\n",
        "        self.titles = [row[0] for row in self.reader]\n",
        "\n",
        "    #preprocess all the titles\n",
        "    self.titles = self.PP.preprocess(self.titles)\n",
        "\n",
        "    print(\"------------------------------------\")\n",
        "    print(\"Preprocessed Titles:\")\n",
        "    print(self.titles[:10])\n",
        "    print(\"------------------------------------\")\n",
        "\n",
        "    self.sp = WhiteSpacePreprocessingStopwords(self.titles, stopwords_list=self.stopwords)\n",
        "    self.preprocessed_documents, self.unpreprocessed_corpus, self.vocab, self.retained_indices = self.sp.preprocess()\n",
        "\n",
        "    self.tp = TopicModelDataPreparation(\"all-mpnet-base-v2\")\n",
        "\n",
        "    self.training_dataset = self.tp.fit(text_for_contextual=self.unpreprocessed_corpus, text_for_bow=self.preprocessed_documents)\n",
        "\n",
        "    self.ctm = CombinedTM(\n",
        "        bow_size=len(self.tp.vocab),\n",
        "        contextual_size=768,\n",
        "        n_components=self.num_ctm_topics,\n",
        "        num_epochs=10\n",
        "        )\n",
        "    \n",
        "    self.ctm.fit(self.training_dataset) # run the model\n",
        "\n",
        "    #report output\n",
        "    print(\"\\n\")\n",
        "    print(\"------------------------------------\")\n",
        "    print(\"Topics:\")\n",
        "    for topic_idx, topic in enumerate(self.ctm.get_topic_lists(12)):\n",
        "      topic_str = \" \".join(topic)\n",
        "      print(f\"Topic {topic_idx}: {topic_str}\")\n",
        "    print(\"------------------------------------\")\n"
      ]
    },
    {
      "cell_type": "markdown",
      "metadata": {
        "id": "aSYEz7dox-XX"
      },
      "source": [
        "## Before 1990"
      ]
    },
    {
      "cell_type": "code",
      "execution_count": null,
      "metadata": {
        "colab": {
          "base_uri": "https://localhost:8080/",
          "height": 406,
          "referenced_widgets": [
            "a8bc872a9f1d44cd8f2daca1c6778093",
            "99f96d2c76ec469cb81f288c29ae0715",
            "ba378c2dcd594389b3902367f6a3976b",
            "7d279042a65d441ea92f440480fb77f6",
            "f2016176efe74393aa329224453d8bd2",
            "67723b871c1c44519b8b05d27b238d57",
            "c8016097fc9a49a68a864ee8efdb3b74",
            "6bfb3d7156e6464c97125d57649339fc",
            "246b6f567c6f4d7893032f3babe3e07a",
            "6a3ee39c0ee544ddae358beab8b7999b",
            "f620ab59073f4596ab3f3ccac58d3295"
          ]
        },
        "id": "7i9a_R9f8OZX",
        "outputId": "fd96e75d-03cb-4e7c-a06e-c8cd75980e1f"
      },
      "outputs": [
        {
          "name": "stdout",
          "output_type": "stream",
          "text": [
            "------------------------------------\n",
            "Preprocessed Titles:\n",
            "['object model capability distributed object management', 'distributed object management technology', 'muffin distributed database machine', 'algebraical optimization ftaexpressions', 'wissensrepraumlsentation und maschinelles lernen', 'algebraic characterization stuf', 'zur systemarchitektur von lilog', 'mengenorientierte auswertung von anfragen der logikprogrammiersprache prolog', 'definite resolution constraint language', 'dokumentation der syntax der liloggrammatik']\n",
            "------------------------------------\n"
          ]
        },
        {
          "name": "stderr",
          "output_type": "stream",
          "text": [
            "/usr/local/lib/python3.8/dist-packages/sklearn/utils/deprecation.py:87: FutureWarning: Function get_feature_names is deprecated; get_feature_names is deprecated in 1.0 and will be removed in 1.2. Please use get_feature_names_out instead.\n",
            "  warnings.warn(msg, category=FutureWarning)\n"
          ]
        },
        {
          "data": {
            "application/vnd.jupyter.widget-view+json": {
              "model_id": "a8bc872a9f1d44cd8f2daca1c6778093",
              "version_major": 2,
              "version_minor": 0
            },
            "text/plain": [
              "Batches:   0%|          | 0/198 [00:00<?, ?it/s]"
            ]
          },
          "metadata": {},
          "output_type": "display_data"
        },
        {
          "name": "stderr",
          "output_type": "stream",
          "text": [
            "Epoch: [10/10]\t Seen Samples: [394540/394540]\tTrain Loss: 32.74007943722337\tTime: 0:00:10.348136: : 10it [01:43, 10.40s/it]\n",
            "Sampling: [20/20]: : 20it [02:54,  8.70s/it]"
          ]
        },
        {
          "name": "stdout",
          "output_type": "stream",
          "text": [
            "\n",
            "\n",
            "------------------------------------\n",
            "Topics:\n",
            "Topic 0: de zur mit proposed student von period session die copyright hard manufacturing\n",
            "Topic 1: control linear systems problem note optimal programming time system model method analysis\n",
            "Topic 2: parallel digital algorithm using pattern recognition sequential image binary memory automatic efficient\n",
            "Topic 3: logic modal theorem propositional type completeness calculus extension set axiom functions recursive\n",
            "Topic 4: information computer design data language system software network database structure research management\n",
            "------------------------------------\n"
          ]
        },
        {
          "name": "stderr",
          "output_type": "stream",
          "text": [
            "\n"
          ]
        },
        {
          "data": {
            "text/plain": [
              "<__main__.CTMModeler at 0x7fb8f1577d90>"
            ]
          },
          "execution_count": 65,
          "metadata": {},
          "output_type": "execute_result"
        }
      ],
      "source": [
        "CTMModeler(PP, path_before_1990, 5)\n",
        "\n",
        "#T0 = incoherent\n",
        "#T1 = Machine Learning\n",
        "#T2 = Computer Vision\n",
        "#T3 = Theoretical Computer Science\n",
        "#T4 = Software Systems"
      ]
    },
    {
      "cell_type": "markdown",
      "metadata": {
        "id": "vNLlmsFIyC6d"
      },
      "source": [
        "## Between 1990 and 2010"
      ]
    },
    {
      "cell_type": "code",
      "execution_count": null,
      "metadata": {
        "colab": {
          "base_uri": "https://localhost:8080/",
          "height": 406,
          "referenced_widgets": [
            "33ad3960d8694b05bac5f330600900bd",
            "cca6d9972efe45b796727df4a5a823af",
            "0ec98dbd58d245c3a33ad232f358f4a6",
            "22820f3c512b438398ab338a34b52db7",
            "882e10c6e50346b0907b534f94c86e97",
            "981d4349f8ee47c29ac337a13832a93c",
            "c6af59ecb12045c1b6c366d57b6a0e03",
            "f22d61c6b824461693bf1c7615978e23",
            "1f4941d1e7ea42ca98a2827a3590469c",
            "4c070417baf543a6805680b9e8093699",
            "6e8e72059f2b47d4a4e3be11bc232de0"
          ]
        },
        "id": "dL2Qvni44DPf",
        "outputId": "4b62d266-713f-4c4c-c81b-a5fbc095b0a5"
      },
      "outputs": [
        {
          "name": "stdout",
          "output_type": "stream",
          "text": [
            "------------------------------------\n",
            "Preprocessed Titles:\n",
            "['evaluation objectoriented dbms developments 1994 edition', 'darwin incremental migration legacy information system', 'integrating heterogeneous autonomous distributed application using dom prototype', 'integrating objectoriented application middleware relational databases', 'towards transaction management system dom', 'risc object model object system interoperation concept applications', 'metaobject protocol concept risc object model', 'object data language facility multimedia data types', 'object data model facility multimedia data types', 'experiment dispatching distributed object system']\n",
            "------------------------------------\n"
          ]
        },
        {
          "name": "stderr",
          "output_type": "stream",
          "text": [
            "/usr/local/lib/python3.8/dist-packages/sklearn/utils/deprecation.py:87: FutureWarning: Function get_feature_names is deprecated; get_feature_names is deprecated in 1.0 and will be removed in 1.2. Please use get_feature_names_out instead.\n",
            "  warnings.warn(msg, category=FutureWarning)\n"
          ]
        },
        {
          "data": {
            "application/vnd.jupyter.widget-view+json": {
              "model_id": "33ad3960d8694b05bac5f330600900bd",
              "version_major": 2,
              "version_minor": 0
            },
            "text/plain": [
              "Batches:   0%|          | 0/1631 [00:00<?, ?it/s]"
            ]
          },
          "metadata": {},
          "output_type": "display_data"
        },
        {
          "name": "stderr",
          "output_type": "stream",
          "text": [
            "Epoch: [10/10]\t Seen Samples: [3260080/3260080]\tTrain Loss: 37.76361802346791\tTime: 0:01:25.529023: : 10it [14:02, 84.23s/it]\n",
            "Sampling: [20/20]: : 20it [22:52, 68.61s/it]"
          ]
        },
        {
          "name": "stdout",
          "output_type": "stream",
          "text": [
            "\n",
            "\n",
            "------------------------------------\n",
            "Topics:\n",
            "Topic 0: using image data model analysis based recognition neural classification detection approach feature\n",
            "Topic 1: information development web software issue research knowledge technology special computer case electronic\n",
            "Topic 2: networks wireless control performance network adaptive scheme mobile protocol sensor communication channel\n",
            "Topic 3: overlapping obstacle various spatially precision mutual nonstationary angle merging vibration nonuniform cross\n",
            "Topic 4: problem nonlinear linear method solution equation problems algorithm class equations numerical optimization\n",
            "------------------------------------\n"
          ]
        },
        {
          "name": "stderr",
          "output_type": "stream",
          "text": [
            "\n"
          ]
        },
        {
          "data": {
            "text/plain": [
              "<__main__.CTMModeler at 0x7fb8f6a5dd00>"
            ]
          },
          "execution_count": 66,
          "metadata": {},
          "output_type": "execute_result"
        }
      ],
      "source": [
        "CTMModeler(PP, path_from_1990_to_2009, 5)\n",
        "\n",
        "#T0 = Computer Vision\n",
        "#T1 = Web Development\n",
        "#T2 = Computer Networks\n",
        "#T3 = Self-driving Cars\n",
        "#T4 = Foundations of Data Science"
      ]
    },
    {
      "cell_type": "markdown",
      "metadata": {
        "id": "oZ6ky3NyyGXB"
      },
      "source": [
        "## After 2010"
      ]
    },
    {
      "cell_type": "code",
      "execution_count": null,
      "metadata": {
        "colab": {
          "base_uri": "https://localhost:8080/",
          "height": 477,
          "referenced_widgets": [
            "34f0598a0f2f49d3b1c0c69dd9cbb274",
            "df7814b258b24a758f4f9288112663b1",
            "9064c7446ed5466baeb1bdb5ea0aef22",
            "965cc434ec8e46adbd7125b82f413df3",
            "221aa694e5c04d6987dd05d35c898768",
            "747920d73e78498b9043b76c050b70db",
            "0d9c638fd3554ce295ce065c13788707",
            "0fe95eb06d544e2bacbc5da5b88488f6",
            "4a9e6029f0a7480eaacb560a195641cd",
            "2bdc178da41a4a9797bf0909675a1cf1",
            "438b4e17e87847119333087f9fcabf9d"
          ]
        },
        "id": "PUagSXk_0LqZ",
        "outputId": "0ffd2605-e9aa-4a2f-aa3d-a770c43cdbf2"
      },
      "outputs": [
        {
          "name": "stdout",
          "output_type": "stream",
          "text": [
            "------------------------------------\n",
            "Preprocessed Titles:\n",
            "['spectre attacks exploiting speculative execution', 'computer science curriculum 2013', 'difference productivity impact across different computer science subareas', 'klaus tschira stiftung gemeinnuumltzige gmbh kt', 'catchment classification runoff behaviour selforganizing map som', 'analysis projected hydrological behavior catchment based signature index', 'ear shape biometric identification', 'multithreaded implementation cryptography cryptanalysis', 'privacypreserving authentication wireless access networks', 'private key cryptosystem']\n",
            "------------------------------------\n"
          ]
        },
        {
          "name": "stderr",
          "output_type": "stream",
          "text": [
            "/usr/local/lib/python3.8/dist-packages/sklearn/utils/deprecation.py:87: FutureWarning: Function get_feature_names is deprecated; get_feature_names is deprecated in 1.0 and will be removed in 1.2. Please use get_feature_names_out instead.\n",
            "  warnings.warn(msg, category=FutureWarning)\n",
            "/usr/local/lib/python3.8/dist-packages/contextualized_topic_models/utils/data_preparation.py:57: UserWarning: the longest document in your collection has 159 words, the model instead truncates to 128 tokens.\n",
            "  warnings.warn(f\"the longest document in your collection has {max_local_length} words, the model instead \"\n"
          ]
        },
        {
          "data": {
            "application/vnd.jupyter.widget-view+json": {
              "model_id": "34f0598a0f2f49d3b1c0c69dd9cbb274",
              "version_major": 2,
              "version_minor": 0
            },
            "text/plain": [
              "Batches:   0%|          | 0/4097 [00:00<?, ?it/s]"
            ]
          },
          "metadata": {},
          "output_type": "display_data"
        },
        {
          "name": "stderr",
          "output_type": "stream",
          "text": [
            "/usr/local/lib/python3.8/dist-packages/sklearn/utils/deprecation.py:87: FutureWarning: Function get_feature_names is deprecated; get_feature_names is deprecated in 1.0 and will be removed in 1.2. Please use get_feature_names_out instead.\n",
            "  warnings.warn(msg, category=FutureWarning)\n",
            "Epoch: [10/10]\t Seen Samples: [8192460/8192460]\tTrain Loss: 45.190276543454765\tTime: 0:03:33.458686: : 10it [35:46, 214.64s/it]\n",
            "Sampling: [20/20]: : 20it [56:36, 169.83s/it]\n"
          ]
        },
        {
          "name": "stdout",
          "output_type": "stream",
          "text": [
            "\n",
            "\n",
            "------------------------------------\n",
            "Topics:\n",
            "Topic 0: study research case social development technology review software special information issue use\n",
            "Topic 1: control nonlinear problem linear system method fuzzy equation solution stochastic stability adaptive\n",
            "Topic 2: networks wireless sensor energy scheme power communication allocation distributed scheduling efficient routing\n",
            "Topic 3: image using detection classification learning based deep neural feature recognition network segmentation\n",
            "Topic 4: quantization cascade cascaded noisy weakly optimizer nonstationary kmeans inversion covariance angle vessel\n",
            "------------------------------------\n"
          ]
        },
        {
          "data": {
            "text/plain": [
              "<__main__.CTMModeler at 0x7fb8076fda00>"
            ]
          },
          "execution_count": 67,
          "metadata": {},
          "output_type": "execute_result"
        }
      ],
      "source": [
        "CTMModeler(PP, path_from_2010, 5)\n",
        "\n",
        "#T0 = Incoherent\n",
        "#T1 = Optimization\n",
        "#T2 = Computer Networks\n",
        "#T3 = Deep Learning\n",
        "#T4 = Applications of AI"
      ]
    }
  ],
  "metadata": {
    "accelerator": "GPU",
    "colab": {
      "provenance": []
    },
    "gpuClass": "standard",
    "kernelspec": {
      "display_name": "Python 3",
      "name": "python3"
    },
    "language_info": {
      "name": "python"
    },
    "widgets": {
      "application/vnd.jupyter.widget-state+json": {
        "0d9c638fd3554ce295ce065c13788707": {
          "model_module": "@jupyter-widgets/controls",
          "model_module_version": "1.5.0",
          "model_name": "DescriptionStyleModel",
          "state": {
            "_model_module": "@jupyter-widgets/controls",
            "_model_module_version": "1.5.0",
            "_model_name": "DescriptionStyleModel",
            "_view_count": null,
            "_view_module": "@jupyter-widgets/base",
            "_view_module_version": "1.2.0",
            "_view_name": "StyleView",
            "description_width": ""
          }
        },
        "0ec98dbd58d245c3a33ad232f358f4a6": {
          "model_module": "@jupyter-widgets/controls",
          "model_module_version": "1.5.0",
          "model_name": "FloatProgressModel",
          "state": {
            "_dom_classes": [],
            "_model_module": "@jupyter-widgets/controls",
            "_model_module_version": "1.5.0",
            "_model_name": "FloatProgressModel",
            "_view_count": null,
            "_view_module": "@jupyter-widgets/controls",
            "_view_module_version": "1.5.0",
            "_view_name": "ProgressView",
            "bar_style": "success",
            "description": "",
            "description_tooltip": null,
            "layout": "IPY_MODEL_f22d61c6b824461693bf1c7615978e23",
            "max": 1631,
            "min": 0,
            "orientation": "horizontal",
            "style": "IPY_MODEL_1f4941d1e7ea42ca98a2827a3590469c",
            "value": 1631
          }
        },
        "0fe95eb06d544e2bacbc5da5b88488f6": {
          "model_module": "@jupyter-widgets/base",
          "model_module_version": "1.2.0",
          "model_name": "LayoutModel",
          "state": {
            "_model_module": "@jupyter-widgets/base",
            "_model_module_version": "1.2.0",
            "_model_name": "LayoutModel",
            "_view_count": null,
            "_view_module": "@jupyter-widgets/base",
            "_view_module_version": "1.2.0",
            "_view_name": "LayoutView",
            "align_content": null,
            "align_items": null,
            "align_self": null,
            "border": null,
            "bottom": null,
            "display": null,
            "flex": null,
            "flex_flow": null,
            "grid_area": null,
            "grid_auto_columns": null,
            "grid_auto_flow": null,
            "grid_auto_rows": null,
            "grid_column": null,
            "grid_gap": null,
            "grid_row": null,
            "grid_template_areas": null,
            "grid_template_columns": null,
            "grid_template_rows": null,
            "height": null,
            "justify_content": null,
            "justify_items": null,
            "left": null,
            "margin": null,
            "max_height": null,
            "max_width": null,
            "min_height": null,
            "min_width": null,
            "object_fit": null,
            "object_position": null,
            "order": null,
            "overflow": null,
            "overflow_x": null,
            "overflow_y": null,
            "padding": null,
            "right": null,
            "top": null,
            "visibility": null,
            "width": null
          }
        },
        "1f4941d1e7ea42ca98a2827a3590469c": {
          "model_module": "@jupyter-widgets/controls",
          "model_module_version": "1.5.0",
          "model_name": "ProgressStyleModel",
          "state": {
            "_model_module": "@jupyter-widgets/controls",
            "_model_module_version": "1.5.0",
            "_model_name": "ProgressStyleModel",
            "_view_count": null,
            "_view_module": "@jupyter-widgets/base",
            "_view_module_version": "1.2.0",
            "_view_name": "StyleView",
            "bar_color": null,
            "description_width": ""
          }
        },
        "221aa694e5c04d6987dd05d35c898768": {
          "model_module": "@jupyter-widgets/base",
          "model_module_version": "1.2.0",
          "model_name": "LayoutModel",
          "state": {
            "_model_module": "@jupyter-widgets/base",
            "_model_module_version": "1.2.0",
            "_model_name": "LayoutModel",
            "_view_count": null,
            "_view_module": "@jupyter-widgets/base",
            "_view_module_version": "1.2.0",
            "_view_name": "LayoutView",
            "align_content": null,
            "align_items": null,
            "align_self": null,
            "border": null,
            "bottom": null,
            "display": null,
            "flex": null,
            "flex_flow": null,
            "grid_area": null,
            "grid_auto_columns": null,
            "grid_auto_flow": null,
            "grid_auto_rows": null,
            "grid_column": null,
            "grid_gap": null,
            "grid_row": null,
            "grid_template_areas": null,
            "grid_template_columns": null,
            "grid_template_rows": null,
            "height": null,
            "justify_content": null,
            "justify_items": null,
            "left": null,
            "margin": null,
            "max_height": null,
            "max_width": null,
            "min_height": null,
            "min_width": null,
            "object_fit": null,
            "object_position": null,
            "order": null,
            "overflow": null,
            "overflow_x": null,
            "overflow_y": null,
            "padding": null,
            "right": null,
            "top": null,
            "visibility": null,
            "width": null
          }
        },
        "22820f3c512b438398ab338a34b52db7": {
          "model_module": "@jupyter-widgets/controls",
          "model_module_version": "1.5.0",
          "model_name": "HTMLModel",
          "state": {
            "_dom_classes": [],
            "_model_module": "@jupyter-widgets/controls",
            "_model_module_version": "1.5.0",
            "_model_name": "HTMLModel",
            "_view_count": null,
            "_view_module": "@jupyter-widgets/controls",
            "_view_module_version": "1.5.0",
            "_view_name": "HTMLView",
            "description": "",
            "description_tooltip": null,
            "layout": "IPY_MODEL_4c070417baf543a6805680b9e8093699",
            "placeholder": "​",
            "style": "IPY_MODEL_6e8e72059f2b47d4a4e3be11bc232de0",
            "value": " 1631/1631 [07:13&lt;00:00, 12.18it/s]"
          }
        },
        "246b6f567c6f4d7893032f3babe3e07a": {
          "model_module": "@jupyter-widgets/controls",
          "model_module_version": "1.5.0",
          "model_name": "ProgressStyleModel",
          "state": {
            "_model_module": "@jupyter-widgets/controls",
            "_model_module_version": "1.5.0",
            "_model_name": "ProgressStyleModel",
            "_view_count": null,
            "_view_module": "@jupyter-widgets/base",
            "_view_module_version": "1.2.0",
            "_view_name": "StyleView",
            "bar_color": null,
            "description_width": ""
          }
        },
        "2bdc178da41a4a9797bf0909675a1cf1": {
          "model_module": "@jupyter-widgets/base",
          "model_module_version": "1.2.0",
          "model_name": "LayoutModel",
          "state": {
            "_model_module": "@jupyter-widgets/base",
            "_model_module_version": "1.2.0",
            "_model_name": "LayoutModel",
            "_view_count": null,
            "_view_module": "@jupyter-widgets/base",
            "_view_module_version": "1.2.0",
            "_view_name": "LayoutView",
            "align_content": null,
            "align_items": null,
            "align_self": null,
            "border": null,
            "bottom": null,
            "display": null,
            "flex": null,
            "flex_flow": null,
            "grid_area": null,
            "grid_auto_columns": null,
            "grid_auto_flow": null,
            "grid_auto_rows": null,
            "grid_column": null,
            "grid_gap": null,
            "grid_row": null,
            "grid_template_areas": null,
            "grid_template_columns": null,
            "grid_template_rows": null,
            "height": null,
            "justify_content": null,
            "justify_items": null,
            "left": null,
            "margin": null,
            "max_height": null,
            "max_width": null,
            "min_height": null,
            "min_width": null,
            "object_fit": null,
            "object_position": null,
            "order": null,
            "overflow": null,
            "overflow_x": null,
            "overflow_y": null,
            "padding": null,
            "right": null,
            "top": null,
            "visibility": null,
            "width": null
          }
        },
        "33ad3960d8694b05bac5f330600900bd": {
          "model_module": "@jupyter-widgets/controls",
          "model_module_version": "1.5.0",
          "model_name": "HBoxModel",
          "state": {
            "_dom_classes": [],
            "_model_module": "@jupyter-widgets/controls",
            "_model_module_version": "1.5.0",
            "_model_name": "HBoxModel",
            "_view_count": null,
            "_view_module": "@jupyter-widgets/controls",
            "_view_module_version": "1.5.0",
            "_view_name": "HBoxView",
            "box_style": "",
            "children": [
              "IPY_MODEL_cca6d9972efe45b796727df4a5a823af",
              "IPY_MODEL_0ec98dbd58d245c3a33ad232f358f4a6",
              "IPY_MODEL_22820f3c512b438398ab338a34b52db7"
            ],
            "layout": "IPY_MODEL_882e10c6e50346b0907b534f94c86e97"
          }
        },
        "34f0598a0f2f49d3b1c0c69dd9cbb274": {
          "model_module": "@jupyter-widgets/controls",
          "model_module_version": "1.5.0",
          "model_name": "HBoxModel",
          "state": {
            "_dom_classes": [],
            "_model_module": "@jupyter-widgets/controls",
            "_model_module_version": "1.5.0",
            "_model_name": "HBoxModel",
            "_view_count": null,
            "_view_module": "@jupyter-widgets/controls",
            "_view_module_version": "1.5.0",
            "_view_name": "HBoxView",
            "box_style": "",
            "children": [
              "IPY_MODEL_df7814b258b24a758f4f9288112663b1",
              "IPY_MODEL_9064c7446ed5466baeb1bdb5ea0aef22",
              "IPY_MODEL_965cc434ec8e46adbd7125b82f413df3"
            ],
            "layout": "IPY_MODEL_221aa694e5c04d6987dd05d35c898768"
          }
        },
        "438b4e17e87847119333087f9fcabf9d": {
          "model_module": "@jupyter-widgets/controls",
          "model_module_version": "1.5.0",
          "model_name": "DescriptionStyleModel",
          "state": {
            "_model_module": "@jupyter-widgets/controls",
            "_model_module_version": "1.5.0",
            "_model_name": "DescriptionStyleModel",
            "_view_count": null,
            "_view_module": "@jupyter-widgets/base",
            "_view_module_version": "1.2.0",
            "_view_name": "StyleView",
            "description_width": ""
          }
        },
        "4a9e6029f0a7480eaacb560a195641cd": {
          "model_module": "@jupyter-widgets/controls",
          "model_module_version": "1.5.0",
          "model_name": "ProgressStyleModel",
          "state": {
            "_model_module": "@jupyter-widgets/controls",
            "_model_module_version": "1.5.0",
            "_model_name": "ProgressStyleModel",
            "_view_count": null,
            "_view_module": "@jupyter-widgets/base",
            "_view_module_version": "1.2.0",
            "_view_name": "StyleView",
            "bar_color": null,
            "description_width": ""
          }
        },
        "4c070417baf543a6805680b9e8093699": {
          "model_module": "@jupyter-widgets/base",
          "model_module_version": "1.2.0",
          "model_name": "LayoutModel",
          "state": {
            "_model_module": "@jupyter-widgets/base",
            "_model_module_version": "1.2.0",
            "_model_name": "LayoutModel",
            "_view_count": null,
            "_view_module": "@jupyter-widgets/base",
            "_view_module_version": "1.2.0",
            "_view_name": "LayoutView",
            "align_content": null,
            "align_items": null,
            "align_self": null,
            "border": null,
            "bottom": null,
            "display": null,
            "flex": null,
            "flex_flow": null,
            "grid_area": null,
            "grid_auto_columns": null,
            "grid_auto_flow": null,
            "grid_auto_rows": null,
            "grid_column": null,
            "grid_gap": null,
            "grid_row": null,
            "grid_template_areas": null,
            "grid_template_columns": null,
            "grid_template_rows": null,
            "height": null,
            "justify_content": null,
            "justify_items": null,
            "left": null,
            "margin": null,
            "max_height": null,
            "max_width": null,
            "min_height": null,
            "min_width": null,
            "object_fit": null,
            "object_position": null,
            "order": null,
            "overflow": null,
            "overflow_x": null,
            "overflow_y": null,
            "padding": null,
            "right": null,
            "top": null,
            "visibility": null,
            "width": null
          }
        },
        "67723b871c1c44519b8b05d27b238d57": {
          "model_module": "@jupyter-widgets/base",
          "model_module_version": "1.2.0",
          "model_name": "LayoutModel",
          "state": {
            "_model_module": "@jupyter-widgets/base",
            "_model_module_version": "1.2.0",
            "_model_name": "LayoutModel",
            "_view_count": null,
            "_view_module": "@jupyter-widgets/base",
            "_view_module_version": "1.2.0",
            "_view_name": "LayoutView",
            "align_content": null,
            "align_items": null,
            "align_self": null,
            "border": null,
            "bottom": null,
            "display": null,
            "flex": null,
            "flex_flow": null,
            "grid_area": null,
            "grid_auto_columns": null,
            "grid_auto_flow": null,
            "grid_auto_rows": null,
            "grid_column": null,
            "grid_gap": null,
            "grid_row": null,
            "grid_template_areas": null,
            "grid_template_columns": null,
            "grid_template_rows": null,
            "height": null,
            "justify_content": null,
            "justify_items": null,
            "left": null,
            "margin": null,
            "max_height": null,
            "max_width": null,
            "min_height": null,
            "min_width": null,
            "object_fit": null,
            "object_position": null,
            "order": null,
            "overflow": null,
            "overflow_x": null,
            "overflow_y": null,
            "padding": null,
            "right": null,
            "top": null,
            "visibility": null,
            "width": null
          }
        },
        "6a3ee39c0ee544ddae358beab8b7999b": {
          "model_module": "@jupyter-widgets/base",
          "model_module_version": "1.2.0",
          "model_name": "LayoutModel",
          "state": {
            "_model_module": "@jupyter-widgets/base",
            "_model_module_version": "1.2.0",
            "_model_name": "LayoutModel",
            "_view_count": null,
            "_view_module": "@jupyter-widgets/base",
            "_view_module_version": "1.2.0",
            "_view_name": "LayoutView",
            "align_content": null,
            "align_items": null,
            "align_self": null,
            "border": null,
            "bottom": null,
            "display": null,
            "flex": null,
            "flex_flow": null,
            "grid_area": null,
            "grid_auto_columns": null,
            "grid_auto_flow": null,
            "grid_auto_rows": null,
            "grid_column": null,
            "grid_gap": null,
            "grid_row": null,
            "grid_template_areas": null,
            "grid_template_columns": null,
            "grid_template_rows": null,
            "height": null,
            "justify_content": null,
            "justify_items": null,
            "left": null,
            "margin": null,
            "max_height": null,
            "max_width": null,
            "min_height": null,
            "min_width": null,
            "object_fit": null,
            "object_position": null,
            "order": null,
            "overflow": null,
            "overflow_x": null,
            "overflow_y": null,
            "padding": null,
            "right": null,
            "top": null,
            "visibility": null,
            "width": null
          }
        },
        "6bfb3d7156e6464c97125d57649339fc": {
          "model_module": "@jupyter-widgets/base",
          "model_module_version": "1.2.0",
          "model_name": "LayoutModel",
          "state": {
            "_model_module": "@jupyter-widgets/base",
            "_model_module_version": "1.2.0",
            "_model_name": "LayoutModel",
            "_view_count": null,
            "_view_module": "@jupyter-widgets/base",
            "_view_module_version": "1.2.0",
            "_view_name": "LayoutView",
            "align_content": null,
            "align_items": null,
            "align_self": null,
            "border": null,
            "bottom": null,
            "display": null,
            "flex": null,
            "flex_flow": null,
            "grid_area": null,
            "grid_auto_columns": null,
            "grid_auto_flow": null,
            "grid_auto_rows": null,
            "grid_column": null,
            "grid_gap": null,
            "grid_row": null,
            "grid_template_areas": null,
            "grid_template_columns": null,
            "grid_template_rows": null,
            "height": null,
            "justify_content": null,
            "justify_items": null,
            "left": null,
            "margin": null,
            "max_height": null,
            "max_width": null,
            "min_height": null,
            "min_width": null,
            "object_fit": null,
            "object_position": null,
            "order": null,
            "overflow": null,
            "overflow_x": null,
            "overflow_y": null,
            "padding": null,
            "right": null,
            "top": null,
            "visibility": null,
            "width": null
          }
        },
        "6e8e72059f2b47d4a4e3be11bc232de0": {
          "model_module": "@jupyter-widgets/controls",
          "model_module_version": "1.5.0",
          "model_name": "DescriptionStyleModel",
          "state": {
            "_model_module": "@jupyter-widgets/controls",
            "_model_module_version": "1.5.0",
            "_model_name": "DescriptionStyleModel",
            "_view_count": null,
            "_view_module": "@jupyter-widgets/base",
            "_view_module_version": "1.2.0",
            "_view_name": "StyleView",
            "description_width": ""
          }
        },
        "747920d73e78498b9043b76c050b70db": {
          "model_module": "@jupyter-widgets/base",
          "model_module_version": "1.2.0",
          "model_name": "LayoutModel",
          "state": {
            "_model_module": "@jupyter-widgets/base",
            "_model_module_version": "1.2.0",
            "_model_name": "LayoutModel",
            "_view_count": null,
            "_view_module": "@jupyter-widgets/base",
            "_view_module_version": "1.2.0",
            "_view_name": "LayoutView",
            "align_content": null,
            "align_items": null,
            "align_self": null,
            "border": null,
            "bottom": null,
            "display": null,
            "flex": null,
            "flex_flow": null,
            "grid_area": null,
            "grid_auto_columns": null,
            "grid_auto_flow": null,
            "grid_auto_rows": null,
            "grid_column": null,
            "grid_gap": null,
            "grid_row": null,
            "grid_template_areas": null,
            "grid_template_columns": null,
            "grid_template_rows": null,
            "height": null,
            "justify_content": null,
            "justify_items": null,
            "left": null,
            "margin": null,
            "max_height": null,
            "max_width": null,
            "min_height": null,
            "min_width": null,
            "object_fit": null,
            "object_position": null,
            "order": null,
            "overflow": null,
            "overflow_x": null,
            "overflow_y": null,
            "padding": null,
            "right": null,
            "top": null,
            "visibility": null,
            "width": null
          }
        },
        "7d279042a65d441ea92f440480fb77f6": {
          "model_module": "@jupyter-widgets/controls",
          "model_module_version": "1.5.0",
          "model_name": "HTMLModel",
          "state": {
            "_dom_classes": [],
            "_model_module": "@jupyter-widgets/controls",
            "_model_module_version": "1.5.0",
            "_model_name": "HTMLModel",
            "_view_count": null,
            "_view_module": "@jupyter-widgets/controls",
            "_view_module_version": "1.5.0",
            "_view_name": "HTMLView",
            "description": "",
            "description_tooltip": null,
            "layout": "IPY_MODEL_6a3ee39c0ee544ddae358beab8b7999b",
            "placeholder": "​",
            "style": "IPY_MODEL_f620ab59073f4596ab3f3ccac58d3295",
            "value": " 124/198 [00:35&lt;00:14,  4.96it/s]"
          }
        },
        "882e10c6e50346b0907b534f94c86e97": {
          "model_module": "@jupyter-widgets/base",
          "model_module_version": "1.2.0",
          "model_name": "LayoutModel",
          "state": {
            "_model_module": "@jupyter-widgets/base",
            "_model_module_version": "1.2.0",
            "_model_name": "LayoutModel",
            "_view_count": null,
            "_view_module": "@jupyter-widgets/base",
            "_view_module_version": "1.2.0",
            "_view_name": "LayoutView",
            "align_content": null,
            "align_items": null,
            "align_self": null,
            "border": null,
            "bottom": null,
            "display": null,
            "flex": null,
            "flex_flow": null,
            "grid_area": null,
            "grid_auto_columns": null,
            "grid_auto_flow": null,
            "grid_auto_rows": null,
            "grid_column": null,
            "grid_gap": null,
            "grid_row": null,
            "grid_template_areas": null,
            "grid_template_columns": null,
            "grid_template_rows": null,
            "height": null,
            "justify_content": null,
            "justify_items": null,
            "left": null,
            "margin": null,
            "max_height": null,
            "max_width": null,
            "min_height": null,
            "min_width": null,
            "object_fit": null,
            "object_position": null,
            "order": null,
            "overflow": null,
            "overflow_x": null,
            "overflow_y": null,
            "padding": null,
            "right": null,
            "top": null,
            "visibility": null,
            "width": null
          }
        },
        "9064c7446ed5466baeb1bdb5ea0aef22": {
          "model_module": "@jupyter-widgets/controls",
          "model_module_version": "1.5.0",
          "model_name": "FloatProgressModel",
          "state": {
            "_dom_classes": [],
            "_model_module": "@jupyter-widgets/controls",
            "_model_module_version": "1.5.0",
            "_model_name": "FloatProgressModel",
            "_view_count": null,
            "_view_module": "@jupyter-widgets/controls",
            "_view_module_version": "1.5.0",
            "_view_name": "ProgressView",
            "bar_style": "success",
            "description": "",
            "description_tooltip": null,
            "layout": "IPY_MODEL_0fe95eb06d544e2bacbc5da5b88488f6",
            "max": 4097,
            "min": 0,
            "orientation": "horizontal",
            "style": "IPY_MODEL_4a9e6029f0a7480eaacb560a195641cd",
            "value": 4097
          }
        },
        "965cc434ec8e46adbd7125b82f413df3": {
          "model_module": "@jupyter-widgets/controls",
          "model_module_version": "1.5.0",
          "model_name": "HTMLModel",
          "state": {
            "_dom_classes": [],
            "_model_module": "@jupyter-widgets/controls",
            "_model_module_version": "1.5.0",
            "_model_name": "HTMLModel",
            "_view_count": null,
            "_view_module": "@jupyter-widgets/controls",
            "_view_module_version": "1.5.0",
            "_view_name": "HTMLView",
            "description": "",
            "description_tooltip": null,
            "layout": "IPY_MODEL_2bdc178da41a4a9797bf0909675a1cf1",
            "placeholder": "​",
            "style": "IPY_MODEL_438b4e17e87847119333087f9fcabf9d",
            "value": " 4097/4097 [19:45&lt;00:00, 11.21it/s]"
          }
        },
        "981d4349f8ee47c29ac337a13832a93c": {
          "model_module": "@jupyter-widgets/base",
          "model_module_version": "1.2.0",
          "model_name": "LayoutModel",
          "state": {
            "_model_module": "@jupyter-widgets/base",
            "_model_module_version": "1.2.0",
            "_model_name": "LayoutModel",
            "_view_count": null,
            "_view_module": "@jupyter-widgets/base",
            "_view_module_version": "1.2.0",
            "_view_name": "LayoutView",
            "align_content": null,
            "align_items": null,
            "align_self": null,
            "border": null,
            "bottom": null,
            "display": null,
            "flex": null,
            "flex_flow": null,
            "grid_area": null,
            "grid_auto_columns": null,
            "grid_auto_flow": null,
            "grid_auto_rows": null,
            "grid_column": null,
            "grid_gap": null,
            "grid_row": null,
            "grid_template_areas": null,
            "grid_template_columns": null,
            "grid_template_rows": null,
            "height": null,
            "justify_content": null,
            "justify_items": null,
            "left": null,
            "margin": null,
            "max_height": null,
            "max_width": null,
            "min_height": null,
            "min_width": null,
            "object_fit": null,
            "object_position": null,
            "order": null,
            "overflow": null,
            "overflow_x": null,
            "overflow_y": null,
            "padding": null,
            "right": null,
            "top": null,
            "visibility": null,
            "width": null
          }
        },
        "99f96d2c76ec469cb81f288c29ae0715": {
          "model_module": "@jupyter-widgets/controls",
          "model_module_version": "1.5.0",
          "model_name": "HTMLModel",
          "state": {
            "_dom_classes": [],
            "_model_module": "@jupyter-widgets/controls",
            "_model_module_version": "1.5.0",
            "_model_name": "HTMLModel",
            "_view_count": null,
            "_view_module": "@jupyter-widgets/controls",
            "_view_module_version": "1.5.0",
            "_view_name": "HTMLView",
            "description": "",
            "description_tooltip": null,
            "layout": "IPY_MODEL_67723b871c1c44519b8b05d27b238d57",
            "placeholder": "​",
            "style": "IPY_MODEL_c8016097fc9a49a68a864ee8efdb3b74",
            "value": "Batches:  63%"
          }
        },
        "a8bc872a9f1d44cd8f2daca1c6778093": {
          "model_module": "@jupyter-widgets/controls",
          "model_module_version": "1.5.0",
          "model_name": "HBoxModel",
          "state": {
            "_dom_classes": [],
            "_model_module": "@jupyter-widgets/controls",
            "_model_module_version": "1.5.0",
            "_model_name": "HBoxModel",
            "_view_count": null,
            "_view_module": "@jupyter-widgets/controls",
            "_view_module_version": "1.5.0",
            "_view_name": "HBoxView",
            "box_style": "",
            "children": [
              "IPY_MODEL_99f96d2c76ec469cb81f288c29ae0715",
              "IPY_MODEL_ba378c2dcd594389b3902367f6a3976b",
              "IPY_MODEL_7d279042a65d441ea92f440480fb77f6"
            ],
            "layout": "IPY_MODEL_f2016176efe74393aa329224453d8bd2"
          }
        },
        "ba378c2dcd594389b3902367f6a3976b": {
          "model_module": "@jupyter-widgets/controls",
          "model_module_version": "1.5.0",
          "model_name": "FloatProgressModel",
          "state": {
            "_dom_classes": [],
            "_model_module": "@jupyter-widgets/controls",
            "_model_module_version": "1.5.0",
            "_model_name": "FloatProgressModel",
            "_view_count": null,
            "_view_module": "@jupyter-widgets/controls",
            "_view_module_version": "1.5.0",
            "_view_name": "ProgressView",
            "bar_style": "",
            "description": "",
            "description_tooltip": null,
            "layout": "IPY_MODEL_6bfb3d7156e6464c97125d57649339fc",
            "max": 198,
            "min": 0,
            "orientation": "horizontal",
            "style": "IPY_MODEL_246b6f567c6f4d7893032f3babe3e07a",
            "value": 124
          }
        },
        "c6af59ecb12045c1b6c366d57b6a0e03": {
          "model_module": "@jupyter-widgets/controls",
          "model_module_version": "1.5.0",
          "model_name": "DescriptionStyleModel",
          "state": {
            "_model_module": "@jupyter-widgets/controls",
            "_model_module_version": "1.5.0",
            "_model_name": "DescriptionStyleModel",
            "_view_count": null,
            "_view_module": "@jupyter-widgets/base",
            "_view_module_version": "1.2.0",
            "_view_name": "StyleView",
            "description_width": ""
          }
        },
        "c8016097fc9a49a68a864ee8efdb3b74": {
          "model_module": "@jupyter-widgets/controls",
          "model_module_version": "1.5.0",
          "model_name": "DescriptionStyleModel",
          "state": {
            "_model_module": "@jupyter-widgets/controls",
            "_model_module_version": "1.5.0",
            "_model_name": "DescriptionStyleModel",
            "_view_count": null,
            "_view_module": "@jupyter-widgets/base",
            "_view_module_version": "1.2.0",
            "_view_name": "StyleView",
            "description_width": ""
          }
        },
        "cca6d9972efe45b796727df4a5a823af": {
          "model_module": "@jupyter-widgets/controls",
          "model_module_version": "1.5.0",
          "model_name": "HTMLModel",
          "state": {
            "_dom_classes": [],
            "_model_module": "@jupyter-widgets/controls",
            "_model_module_version": "1.5.0",
            "_model_name": "HTMLModel",
            "_view_count": null,
            "_view_module": "@jupyter-widgets/controls",
            "_view_module_version": "1.5.0",
            "_view_name": "HTMLView",
            "description": "",
            "description_tooltip": null,
            "layout": "IPY_MODEL_981d4349f8ee47c29ac337a13832a93c",
            "placeholder": "​",
            "style": "IPY_MODEL_c6af59ecb12045c1b6c366d57b6a0e03",
            "value": "Batches: 100%"
          }
        },
        "df7814b258b24a758f4f9288112663b1": {
          "model_module": "@jupyter-widgets/controls",
          "model_module_version": "1.5.0",
          "model_name": "HTMLModel",
          "state": {
            "_dom_classes": [],
            "_model_module": "@jupyter-widgets/controls",
            "_model_module_version": "1.5.0",
            "_model_name": "HTMLModel",
            "_view_count": null,
            "_view_module": "@jupyter-widgets/controls",
            "_view_module_version": "1.5.0",
            "_view_name": "HTMLView",
            "description": "",
            "description_tooltip": null,
            "layout": "IPY_MODEL_747920d73e78498b9043b76c050b70db",
            "placeholder": "​",
            "style": "IPY_MODEL_0d9c638fd3554ce295ce065c13788707",
            "value": "Batches: 100%"
          }
        },
        "f2016176efe74393aa329224453d8bd2": {
          "model_module": "@jupyter-widgets/base",
          "model_module_version": "1.2.0",
          "model_name": "LayoutModel",
          "state": {
            "_model_module": "@jupyter-widgets/base",
            "_model_module_version": "1.2.0",
            "_model_name": "LayoutModel",
            "_view_count": null,
            "_view_module": "@jupyter-widgets/base",
            "_view_module_version": "1.2.0",
            "_view_name": "LayoutView",
            "align_content": null,
            "align_items": null,
            "align_self": null,
            "border": null,
            "bottom": null,
            "display": null,
            "flex": null,
            "flex_flow": null,
            "grid_area": null,
            "grid_auto_columns": null,
            "grid_auto_flow": null,
            "grid_auto_rows": null,
            "grid_column": null,
            "grid_gap": null,
            "grid_row": null,
            "grid_template_areas": null,
            "grid_template_columns": null,
            "grid_template_rows": null,
            "height": null,
            "justify_content": null,
            "justify_items": null,
            "left": null,
            "margin": null,
            "max_height": null,
            "max_width": null,
            "min_height": null,
            "min_width": null,
            "object_fit": null,
            "object_position": null,
            "order": null,
            "overflow": null,
            "overflow_x": null,
            "overflow_y": null,
            "padding": null,
            "right": null,
            "top": null,
            "visibility": null,
            "width": null
          }
        },
        "f22d61c6b824461693bf1c7615978e23": {
          "model_module": "@jupyter-widgets/base",
          "model_module_version": "1.2.0",
          "model_name": "LayoutModel",
          "state": {
            "_model_module": "@jupyter-widgets/base",
            "_model_module_version": "1.2.0",
            "_model_name": "LayoutModel",
            "_view_count": null,
            "_view_module": "@jupyter-widgets/base",
            "_view_module_version": "1.2.0",
            "_view_name": "LayoutView",
            "align_content": null,
            "align_items": null,
            "align_self": null,
            "border": null,
            "bottom": null,
            "display": null,
            "flex": null,
            "flex_flow": null,
            "grid_area": null,
            "grid_auto_columns": null,
            "grid_auto_flow": null,
            "grid_auto_rows": null,
            "grid_column": null,
            "grid_gap": null,
            "grid_row": null,
            "grid_template_areas": null,
            "grid_template_columns": null,
            "grid_template_rows": null,
            "height": null,
            "justify_content": null,
            "justify_items": null,
            "left": null,
            "margin": null,
            "max_height": null,
            "max_width": null,
            "min_height": null,
            "min_width": null,
            "object_fit": null,
            "object_position": null,
            "order": null,
            "overflow": null,
            "overflow_x": null,
            "overflow_y": null,
            "padding": null,
            "right": null,
            "top": null,
            "visibility": null,
            "width": null
          }
        },
        "f620ab59073f4596ab3f3ccac58d3295": {
          "model_module": "@jupyter-widgets/controls",
          "model_module_version": "1.5.0",
          "model_name": "DescriptionStyleModel",
          "state": {
            "_model_module": "@jupyter-widgets/controls",
            "_model_module_version": "1.5.0",
            "_model_name": "DescriptionStyleModel",
            "_view_count": null,
            "_view_module": "@jupyter-widgets/base",
            "_view_module_version": "1.2.0",
            "_view_name": "StyleView",
            "description_width": ""
          }
        }
      }
    }
  },
  "nbformat": 4,
  "nbformat_minor": 0
}
